{
 "cells": [
  {
   "cell_type": "code",
   "execution_count": 1,
   "metadata": {},
   "outputs": [],
   "source": [
    "import tensorflow as tf\n",
    "import pandas as pd\n",
    "import numpy as np\n",
    "import seaborn as sns\n",
    "import matplotlib.pyplot as plt"
   ]
  },
  {
   "attachments": {},
   "cell_type": "markdown",
   "metadata": {},
   "source": [
    "Accediendo a los datos"
   ]
  },
  {
   "cell_type": "code",
   "execution_count": 2,
   "metadata": {},
   "outputs": [],
   "source": [
    "df = pd.read_csv('data.csv')"
   ]
  },
  {
   "attachments": {},
   "cell_type": "markdown",
   "metadata": {},
   "source": [
    "Set de entrenamiento"
   ]
  },
  {
   "cell_type": "code",
   "execution_count": 3,
   "metadata": {},
   "outputs": [],
   "source": [
    "X_train = df['Historial_crediticio']\n",
    "Y_train = df['Estatus_prestamo']"
   ]
  },
  {
   "attachments": {},
   "cell_type": "markdown",
   "metadata": {},
   "source": [
    "Creación del modelo secuencial"
   ]
  },
  {
   "cell_type": "code",
   "execution_count": 4,
   "metadata": {},
   "outputs": [
    {
     "name": "stdout",
     "output_type": "stream",
     "text": [
      "Model: \"sequential\"\n",
      "_________________________________________________________________\n",
      " Layer (type)                Output Shape              Param #   \n",
      "=================================================================\n",
      " dense (Dense)               (None, 1)                 2         \n",
      "                                                                 \n",
      "=================================================================\n",
      "Total params: 2\n",
      "Trainable params: 2\n",
      "Non-trainable params: 0\n",
      "_________________________________________________________________\n"
     ]
    }
   ],
   "source": [
    "modelo = tf.keras.Sequential()\n",
    "modelo.add(tf.keras.layers.Dense(units=1, input_shape=[1]))\n",
    "\n",
    "modelo.summary()\n"
   ]
  },
  {
   "attachments": {},
   "cell_type": "markdown",
   "metadata": {},
   "source": [
    "Compilando el modelo"
   ]
  },
  {
   "cell_type": "code",
   "execution_count": 5,
   "metadata": {},
   "outputs": [],
   "source": [
    "modelo.compile(optimizer=tf.keras.optimizers.Adam(),\n",
    "               loss='mean_squared_error', metrics=['accuracy'])\n"
   ]
  },
  {
   "attachments": {},
   "cell_type": "markdown",
   "metadata": {},
   "source": [
    "Entrenamiento"
   ]
  },
  {
   "cell_type": "code",
   "execution_count": 9,
   "metadata": {},
   "outputs": [
    {
     "name": "stdout",
     "output_type": "stream",
     "text": [
      "Epoch 1/100\n",
      "18/18 [==============================] - 0s 2ms/step - loss: 0.1158 - accuracy: 0.8689\n",
      "Epoch 2/100\n",
      "18/18 [==============================] - 0s 2ms/step - loss: 0.1156 - accuracy: 0.8689\n",
      "Epoch 3/100\n",
      "18/18 [==============================] - 0s 2ms/step - loss: 0.1156 - accuracy: 0.8689\n",
      "Epoch 4/100\n",
      "18/18 [==============================] - 0s 2ms/step - loss: 0.1156 - accuracy: 0.8689\n",
      "Epoch 5/100\n",
      "18/18 [==============================] - 0s 2ms/step - loss: 0.1155 - accuracy: 0.8689\n",
      "Epoch 6/100\n",
      "18/18 [==============================] - 0s 1ms/step - loss: 0.1155 - accuracy: 0.8689\n",
      "Epoch 7/100\n",
      "18/18 [==============================] - 0s 1ms/step - loss: 0.1155 - accuracy: 0.8689\n",
      "Epoch 8/100\n",
      "18/18 [==============================] - 0s 1ms/step - loss: 0.1154 - accuracy: 0.8689\n",
      "Epoch 9/100\n",
      "18/18 [==============================] - 0s 2ms/step - loss: 0.1154 - accuracy: 0.8689\n",
      "Epoch 10/100\n",
      "18/18 [==============================] - 0s 1ms/step - loss: 0.1154 - accuracy: 0.8689\n",
      "Epoch 11/100\n",
      "18/18 [==============================] - 0s 1ms/step - loss: 0.1153 - accuracy: 0.8689\n",
      "Epoch 12/100\n",
      "18/18 [==============================] - 0s 1ms/step - loss: 0.1153 - accuracy: 0.8689\n",
      "Epoch 13/100\n",
      "18/18 [==============================] - 0s 2ms/step - loss: 0.1153 - accuracy: 0.8689\n",
      "Epoch 14/100\n",
      "18/18 [==============================] - 0s 1ms/step - loss: 0.1152 - accuracy: 0.8689\n",
      "Epoch 15/100\n",
      "18/18 [==============================] - 0s 1ms/step - loss: 0.1152 - accuracy: 0.8689\n",
      "Epoch 16/100\n",
      "18/18 [==============================] - 0s 1ms/step - loss: 0.1152 - accuracy: 0.8689\n",
      "Epoch 17/100\n",
      "18/18 [==============================] - 0s 1ms/step - loss: 0.1151 - accuracy: 0.8689\n",
      "Epoch 18/100\n",
      "18/18 [==============================] - 0s 1ms/step - loss: 0.1151 - accuracy: 0.8689\n",
      "Epoch 19/100\n",
      "18/18 [==============================] - 0s 1ms/step - loss: 0.1151 - accuracy: 0.8689\n",
      "Epoch 20/100\n",
      "18/18 [==============================] - 0s 1ms/step - loss: 0.1150 - accuracy: 0.8689\n",
      "Epoch 21/100\n",
      "18/18 [==============================] - 0s 1ms/step - loss: 0.1150 - accuracy: 0.8689\n",
      "Epoch 22/100\n",
      "18/18 [==============================] - 0s 1ms/step - loss: 0.1150 - accuracy: 0.8689\n",
      "Epoch 23/100\n",
      "18/18 [==============================] - 0s 2ms/step - loss: 0.1150 - accuracy: 0.8689\n",
      "Epoch 24/100\n",
      "18/18 [==============================] - 0s 2ms/step - loss: 0.1149 - accuracy: 0.8689\n",
      "Epoch 25/100\n",
      "18/18 [==============================] - 0s 1ms/step - loss: 0.1149 - accuracy: 0.8689\n",
      "Epoch 26/100\n",
      "18/18 [==============================] - 0s 1ms/step - loss: 0.1149 - accuracy: 0.8689\n",
      "Epoch 27/100\n",
      "18/18 [==============================] - 0s 2ms/step - loss: 0.1148 - accuracy: 0.8689\n",
      "Epoch 28/100\n",
      "18/18 [==============================] - 0s 1ms/step - loss: 0.1148 - accuracy: 0.8689\n",
      "Epoch 29/100\n",
      "18/18 [==============================] - 0s 2ms/step - loss: 0.1148 - accuracy: 0.8689\n",
      "Epoch 30/100\n",
      "18/18 [==============================] - 0s 3ms/step - loss: 0.1149 - accuracy: 0.8689\n",
      "Epoch 31/100\n",
      "18/18 [==============================] - 0s 1ms/step - loss: 0.1147 - accuracy: 0.8689\n",
      "Epoch 32/100\n",
      "18/18 [==============================] - 0s 1ms/step - loss: 0.1147 - accuracy: 0.8689\n",
      "Epoch 33/100\n",
      "18/18 [==============================] - 0s 2ms/step - loss: 0.1148 - accuracy: 0.8689\n",
      "Epoch 34/100\n",
      "18/18 [==============================] - 0s 1ms/step - loss: 0.1147 - accuracy: 0.8689\n",
      "Epoch 35/100\n",
      "18/18 [==============================] - 0s 1ms/step - loss: 0.1146 - accuracy: 0.8689\n",
      "Epoch 36/100\n",
      "18/18 [==============================] - 0s 1ms/step - loss: 0.1147 - accuracy: 0.8689\n",
      "Epoch 37/100\n",
      "18/18 [==============================] - 0s 1ms/step - loss: 0.1146 - accuracy: 0.8689\n",
      "Epoch 38/100\n",
      "18/18 [==============================] - 0s 1ms/step - loss: 0.1148 - accuracy: 0.8689\n",
      "Epoch 39/100\n",
      "18/18 [==============================] - 0s 2ms/step - loss: 0.1146 - accuracy: 0.8689\n",
      "Epoch 40/100\n",
      "18/18 [==============================] - 0s 2ms/step - loss: 0.1146 - accuracy: 0.8689\n",
      "Epoch 41/100\n",
      "18/18 [==============================] - 0s 1ms/step - loss: 0.1145 - accuracy: 0.8689\n",
      "Epoch 42/100\n",
      "18/18 [==============================] - 0s 1ms/step - loss: 0.1145 - accuracy: 0.8689\n",
      "Epoch 43/100\n",
      "18/18 [==============================] - 0s 2ms/step - loss: 0.1145 - accuracy: 0.8689\n",
      "Epoch 44/100\n",
      "18/18 [==============================] - 0s 1ms/step - loss: 0.1145 - accuracy: 0.8689\n",
      "Epoch 45/100\n",
      "18/18 [==============================] - 0s 1ms/step - loss: 0.1145 - accuracy: 0.8689\n",
      "Epoch 46/100\n",
      "18/18 [==============================] - 0s 1ms/step - loss: 0.1147 - accuracy: 0.8689\n",
      "Epoch 47/100\n",
      "18/18 [==============================] - 0s 1ms/step - loss: 0.1147 - accuracy: 0.8689\n",
      "Epoch 48/100\n",
      "18/18 [==============================] - 0s 2ms/step - loss: 0.1145 - accuracy: 0.8689\n",
      "Epoch 49/100\n",
      "18/18 [==============================] - 0s 1ms/step - loss: 0.1145 - accuracy: 0.8689\n",
      "Epoch 50/100\n",
      "18/18 [==============================] - 0s 1ms/step - loss: 0.1144 - accuracy: 0.8689\n",
      "Epoch 51/100\n",
      "18/18 [==============================] - 0s 4ms/step - loss: 0.1144 - accuracy: 0.8689\n",
      "Epoch 52/100\n",
      "18/18 [==============================] - 0s 2ms/step - loss: 0.1144 - accuracy: 0.8689\n",
      "Epoch 53/100\n",
      "18/18 [==============================] - 0s 999us/step - loss: 0.1143 - accuracy: 0.8689\n",
      "Epoch 54/100\n",
      "18/18 [==============================] - 0s 1ms/step - loss: 0.1143 - accuracy: 0.8689\n",
      "Epoch 55/100\n",
      "18/18 [==============================] - 0s 1ms/step - loss: 0.1143 - accuracy: 0.8689\n",
      "Epoch 56/100\n",
      "18/18 [==============================] - 0s 2ms/step - loss: 0.1144 - accuracy: 0.8689\n",
      "Epoch 57/100\n",
      "18/18 [==============================] - 0s 2ms/step - loss: 0.1143 - accuracy: 0.8689\n",
      "Epoch 58/100\n",
      "18/18 [==============================] - 0s 1ms/step - loss: 0.1143 - accuracy: 0.8689\n",
      "Epoch 59/100\n",
      "18/18 [==============================] - 0s 939us/step - loss: 0.1143 - accuracy: 0.8689\n",
      "Epoch 60/100\n",
      "18/18 [==============================] - 0s 1ms/step - loss: 0.1143 - accuracy: 0.8689\n",
      "Epoch 61/100\n",
      "18/18 [==============================] - 0s 1ms/step - loss: 0.1142 - accuracy: 0.8689\n",
      "Epoch 62/100\n",
      "18/18 [==============================] - 0s 2ms/step - loss: 0.1142 - accuracy: 0.8689\n",
      "Epoch 63/100\n",
      "18/18 [==============================] - 0s 2ms/step - loss: 0.1143 - accuracy: 0.8689\n",
      "Epoch 64/100\n",
      "18/18 [==============================] - 0s 2ms/step - loss: 0.1142 - accuracy: 0.8689\n",
      "Epoch 65/100\n",
      "18/18 [==============================] - 0s 2ms/step - loss: 0.1142 - accuracy: 0.8689\n",
      "Epoch 66/100\n",
      "18/18 [==============================] - 0s 1ms/step - loss: 0.1142 - accuracy: 0.8689\n",
      "Epoch 67/100\n",
      "18/18 [==============================] - 0s 1ms/step - loss: 0.1142 - accuracy: 0.8689\n",
      "Epoch 68/100\n",
      "18/18 [==============================] - 0s 2ms/step - loss: 0.1142 - accuracy: 0.8689\n",
      "Epoch 69/100\n",
      "18/18 [==============================] - 0s 1ms/step - loss: 0.1142 - accuracy: 0.8689\n",
      "Epoch 70/100\n",
      "18/18 [==============================] - 0s 2ms/step - loss: 0.1142 - accuracy: 0.8689\n",
      "Epoch 71/100\n",
      "18/18 [==============================] - 0s 2ms/step - loss: 0.1142 - accuracy: 0.8689\n",
      "Epoch 72/100\n",
      "18/18 [==============================] - 0s 2ms/step - loss: 0.1141 - accuracy: 0.8689\n",
      "Epoch 73/100\n",
      "18/18 [==============================] - 0s 2ms/step - loss: 0.1142 - accuracy: 0.8689\n",
      "Epoch 74/100\n",
      "18/18 [==============================] - 0s 2ms/step - loss: 0.1142 - accuracy: 0.8689\n",
      "Epoch 75/100\n",
      "18/18 [==============================] - 0s 2ms/step - loss: 0.1142 - accuracy: 0.8689\n",
      "Epoch 76/100\n",
      "18/18 [==============================] - 0s 2ms/step - loss: 0.1141 - accuracy: 0.8689\n",
      "Epoch 77/100\n",
      "18/18 [==============================] - 0s 4ms/step - loss: 0.1142 - accuracy: 0.8689\n",
      "Epoch 78/100\n",
      "18/18 [==============================] - 0s 3ms/step - loss: 0.1144 - accuracy: 0.8689\n",
      "Epoch 79/100\n",
      "18/18 [==============================] - 0s 3ms/step - loss: 0.1141 - accuracy: 0.8689\n",
      "Epoch 80/100\n",
      "18/18 [==============================] - 0s 2ms/step - loss: 0.1141 - accuracy: 0.8689\n",
      "Epoch 81/100\n",
      "18/18 [==============================] - 0s 2ms/step - loss: 0.1141 - accuracy: 0.8689\n",
      "Epoch 82/100\n",
      "18/18 [==============================] - 0s 1ms/step - loss: 0.1141 - accuracy: 0.8689\n",
      "Epoch 83/100\n",
      "18/18 [==============================] - 0s 1ms/step - loss: 0.1141 - accuracy: 0.8689\n",
      "Epoch 84/100\n",
      "18/18 [==============================] - 0s 1ms/step - loss: 0.1141 - accuracy: 0.8689\n",
      "Epoch 85/100\n",
      "18/18 [==============================] - 0s 2ms/step - loss: 0.1141 - accuracy: 0.8689\n",
      "Epoch 86/100\n",
      "18/18 [==============================] - 0s 1ms/step - loss: 0.1141 - accuracy: 0.8689\n",
      "Epoch 87/100\n",
      "18/18 [==============================] - 0s 2ms/step - loss: 0.1141 - accuracy: 0.8689\n",
      "Epoch 88/100\n",
      "18/18 [==============================] - 0s 2ms/step - loss: 0.1141 - accuracy: 0.8689\n",
      "Epoch 89/100\n",
      "18/18 [==============================] - 0s 1ms/step - loss: 0.1141 - accuracy: 0.8689\n",
      "Epoch 90/100\n",
      "18/18 [==============================] - 0s 1ms/step - loss: 0.1141 - accuracy: 0.8689\n",
      "Epoch 91/100\n",
      "18/18 [==============================] - 0s 1ms/step - loss: 0.1141 - accuracy: 0.8689\n",
      "Epoch 92/100\n",
      "18/18 [==============================] - 0s 1ms/step - loss: 0.1141 - accuracy: 0.8689\n",
      "Epoch 93/100\n",
      "18/18 [==============================] - 0s 2ms/step - loss: 0.1140 - accuracy: 0.8689\n",
      "Epoch 94/100\n",
      "18/18 [==============================] - 0s 3ms/step - loss: 0.1141 - accuracy: 0.8689\n",
      "Epoch 95/100\n",
      "18/18 [==============================] - 0s 2ms/step - loss: 0.1142 - accuracy: 0.8689\n",
      "Epoch 96/100\n",
      "18/18 [==============================] - 0s 2ms/step - loss: 0.1140 - accuracy: 0.8689\n",
      "Epoch 97/100\n",
      "18/18 [==============================] - 0s 2ms/step - loss: 0.1141 - accuracy: 0.8689\n",
      "Epoch 98/100\n",
      "18/18 [==============================] - 0s 2ms/step - loss: 0.1141 - accuracy: 0.8689\n",
      "Epoch 99/100\n",
      "18/18 [==============================] - 0s 2ms/step - loss: 0.1140 - accuracy: 0.8689\n",
      "Epoch 100/100\n",
      "18/18 [==============================] - 0s 1ms/step - loss: 0.1140 - accuracy: 0.8689\n",
      "[array([[0.7828217]], dtype=float32), array([0.08653612], dtype=float32)]\n",
      "1/1 [==============================] - 0s 52ms/step\n",
      "[[0.08653612]]\n",
      "Un historial crediticio de 0 tiene 91.35% de probabilidad de ser aprobado\n"
     ]
    }
   ],
   "source": [
    "epochs_hist = modelo.fit(X_train, Y_train, epochs=100)\n",
    "\n",
    "keys = epochs_hist.history.keys()\n",
    "\n",
    "weights = modelo.get_weights()\n",
    "print(weights)\n",
    "\n",
    "\n",
    "# Predicción\n",
    "historial = 0\n",
    "estatus = modelo.predict([historial])\n",
    "print(estatus)\n",
    "if estatus >= 0.5:\n",
    "    print(\n",
    "        f\"Un historial crediticio de {historial} tiene {estatus[0][0]*100:.2f}% de probabilidad de ser aprobado\")\n",
    "else:\n",
    "    print(\n",
    "        f\"Un historial crediticio de {historial} tiene {100-estatus[0][0]*100:.2f}% de probabilidad de ser aprobado\")\n"
   ]
  },
  {
   "attachments": {},
   "cell_type": "markdown",
   "metadata": {},
   "source": [
    "Visualizacion"
   ]
  },
  {
   "cell_type": "code",
   "execution_count": 10,
   "metadata": {},
   "outputs": [
    {
     "name": "stdout",
     "output_type": "stream",
     "text": [
      "18/18 [==============================] - 0s 704us/step\n"
     ]
    },
    {
     "data": {
      "text/plain": [
       "[<matplotlib.lines.Line2D at 0x247dc6b6bc0>]"
      ]
     },
     "execution_count": 10,
     "metadata": {},
     "output_type": "execute_result"
    },
    {
     "data": {
      "image/png": "[encoded data removed]",
      "text/plain": [
       "<Figure size 432x288 with 1 Axes>"
      ]
     },
     "metadata": {
      "needs_background": "light"
     },
     "output_type": "display_data"
    }
   ],
   "source": [
    "plt.title('Historial_crediticio vs Estatus_préstamo')\n",
    "plt.xlabel('Historial_crediticio')\n",
    "plt.ylabel('Estatus_préstamo')\n",
    "plt.scatter(X_train, Y_train, color='grey')\n",
    "plt.plot(X_train, modelo.predict(X_train), color='red')\n"
   ]
  }
 ],
 "metadata": {
  "kernelspec": {
   "display_name": "Python 3",
   "language": "python",
   "name": "python3"
  },
  "language_info": {
   "codemirror_mode": {
    "name": "ipython",
    "version": 3
   },
   "file_extension": ".py",
   "mimetype": "text/x-python",
   "name": "python",
   "nbconvert_exporter": "python",
   "pygments_lexer": "ipython3",
   "version": "3.10.4"
  },
  "orig_nbformat": 4,
  "vscode": {
   "interpreter": {
    "hash": "a4a250c60c6d53ce6e306b509684d94ef3bd79ed4d8e7bfbf3835179c995279e"
   }
  }
 },
 "nbformat": 4,
 "nbformat_minor": 2
}
