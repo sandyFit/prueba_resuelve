{
 "cells": [
  {
   "attachments": {},
   "cell_type": "markdown",
   "metadata": {},
   "source": [
    "Modelo con múltiple variables"
   ]
  },
  {
   "cell_type": "code",
   "execution_count": 61,
   "metadata": {},
   "outputs": [],
   "source": [
    "import tensorflow as tf\n",
    "import pandas as pd\n",
    "import numpy as np"
   ]
  },
  {
   "cell_type": "code",
   "execution_count": 62,
   "metadata": {},
   "outputs": [],
   "source": [
    "df = pd.read_csv('data.csv')"
   ]
  },
  {
   "cell_type": "code",
   "execution_count": 93,
   "metadata": {},
   "outputs": [],
   "source": [
    "variables = ['Historial_crediticio', 'Educacion', 'Casado', 'Salario']"
   ]
  },
  {
   "cell_type": "code",
   "execution_count": 94,
   "metadata": {},
   "outputs": [],
   "source": [
    "x = df[variables]\n",
    "y = df['Estatus_prestamo']\n",
    "\n",
    "from sklearn.preprocessing import MinMaxScaler\n",
    "scaler = MinMaxScaler()\n",
    "X_scaled = scaler.fit_transform(x)"
   ]
  },
  {
   "attachments": {},
   "cell_type": "markdown",
   "metadata": {},
   "source": [
    "Normalización de datos"
   ]
  },
  {
   "cell_type": "code",
   "execution_count": 95,
   "metadata": {},
   "outputs": [],
   "source": [
    "y = y.values.reshape(-1, 1)\n",
    "Y_scaled = scaler.fit_transform(y)"
   ]
  },
  {
   "attachments": {},
   "cell_type": "markdown",
   "metadata": {},
   "source": [
    "Entrenamiento"
   ]
  },
  {
   "cell_type": "code",
   "execution_count": 96,
   "metadata": {},
   "outputs": [
    {
     "name": "stdout",
     "output_type": "stream",
     "text": [
      "Model: \"sequential_16\"\n",
      "_________________________________________________________________\n",
      " Layer (type)                Output Shape              Param #   \n",
      "=================================================================\n",
      " dense_51 (Dense)            (None, 64)                320       \n",
      "                                                                 \n",
      " dense_52 (Dense)            (None, 64)                4160      \n",
      "                                                                 \n",
      " dense_53 (Dense)            (None, 1)                 65        \n",
      "                                                                 \n",
      "=================================================================\n",
      "Total params: 4,545\n",
      "Trainable params: 4,545\n",
      "Non-trainable params: 0\n",
      "_________________________________________________________________\n"
     ]
    }
   ],
   "source": [
    "from sklearn.model_selection import train_test_split\n",
    "X_train, X_test, Y_train, Y_test = train_test_split(X_scaled, Y_scaled, test_size=0.25)\n",
    "\n",
    "\n",
    "\n",
    "modelo = tf.keras.models.Sequential([\n",
    "    tf.keras.layers.Dense(64, activation='relu', input_shape=(4,)),\n",
    "    tf.keras.layers.Dense(64, activation='relu'),\n",
    "    tf.keras.layers.Dense(1, activation='sigmoid')\n",
    "])\n",
    "\n",
    "modelo.summary()\n"
   ]
  },
  {
   "attachments": {},
   "cell_type": "markdown",
   "metadata": {},
   "source": [
    "Compilando el modelo"
   ]
  },
  {
   "cell_type": "code",
   "execution_count": 97,
   "metadata": {},
   "outputs": [],
   "source": [
    "modelo.compile(loss='binary_crossentropy',\n",
    "              optimizer=tf.keras.optimizers.Adam(learning_rate=0.001),\n",
    "              metrics=['accuracy'])\n"
   ]
  },
  {
   "attachments": {},
   "cell_type": "markdown",
   "metadata": {},
   "source": [
    "Entrenando el modelo"
   ]
  },
  {
   "cell_type": "code",
   "execution_count": 98,
   "metadata": {},
   "outputs": [
    {
     "name": "stdout",
     "output_type": "stream",
     "text": [
      "Epoch 1/100\n",
      "11/11 [==============================] - 1s 18ms/step - loss: 0.6630 - accuracy: 0.6216 - val_loss: 0.5931 - val_accuracy: 0.7738\n",
      "Epoch 2/100\n",
      "11/11 [==============================] - 0s 5ms/step - loss: 0.5526 - accuracy: 0.7898 - val_loss: 0.5214 - val_accuracy: 0.7738\n",
      "Epoch 3/100\n",
      "11/11 [==============================] - 0s 5ms/step - loss: 0.4962 - accuracy: 0.7808 - val_loss: 0.4837 - val_accuracy: 0.7738\n",
      "Epoch 4/100\n",
      "11/11 [==============================] - 0s 5ms/step - loss: 0.4680 - accuracy: 0.7808 - val_loss: 0.4663 - val_accuracy: 0.7738\n",
      "Epoch 5/100\n",
      "11/11 [==============================] - 0s 5ms/step - loss: 0.4611 - accuracy: 0.7808 - val_loss: 0.4531 - val_accuracy: 0.7738\n",
      "Epoch 6/100\n",
      "11/11 [==============================] - 0s 4ms/step - loss: 0.4486 - accuracy: 0.8078 - val_loss: 0.4411 - val_accuracy: 0.8095\n",
      "Epoch 7/100\n",
      "11/11 [==============================] - 0s 5ms/step - loss: 0.4375 - accuracy: 0.8378 - val_loss: 0.4301 - val_accuracy: 0.8690\n",
      "Epoch 8/100\n",
      "11/11 [==============================] - 0s 5ms/step - loss: 0.4290 - accuracy: 0.8529 - val_loss: 0.4257 - val_accuracy: 0.8690\n",
      "Epoch 9/100\n",
      "11/11 [==============================] - 0s 5ms/step - loss: 0.4263 - accuracy: 0.8529 - val_loss: 0.4126 - val_accuracy: 0.8690\n",
      "Epoch 10/100\n",
      "11/11 [==============================] - 0s 4ms/step - loss: 0.4158 - accuracy: 0.8529 - val_loss: 0.4115 - val_accuracy: 0.8690\n",
      "Epoch 11/100\n",
      "11/11 [==============================] - 0s 4ms/step - loss: 0.4133 - accuracy: 0.8529 - val_loss: 0.4071 - val_accuracy: 0.8690\n",
      "Epoch 12/100\n",
      "11/11 [==============================] - 0s 4ms/step - loss: 0.4133 - accuracy: 0.8529 - val_loss: 0.4122 - val_accuracy: 0.8690\n",
      "Epoch 13/100\n",
      "11/11 [==============================] - 0s 5ms/step - loss: 0.4108 - accuracy: 0.8529 - val_loss: 0.4051 - val_accuracy: 0.8690\n",
      "Epoch 14/100\n",
      "11/11 [==============================] - 0s 4ms/step - loss: 0.4100 - accuracy: 0.8529 - val_loss: 0.4061 - val_accuracy: 0.8690\n",
      "Epoch 15/100\n",
      "11/11 [==============================] - 0s 5ms/step - loss: 0.4087 - accuracy: 0.8529 - val_loss: 0.4125 - val_accuracy: 0.8690\n",
      "Epoch 16/100\n",
      "11/11 [==============================] - 0s 4ms/step - loss: 0.4097 - accuracy: 0.8529 - val_loss: 0.4116 - val_accuracy: 0.8690\n",
      "Epoch 17/100\n",
      "11/11 [==============================] - 0s 5ms/step - loss: 0.4062 - accuracy: 0.8529 - val_loss: 0.4058 - val_accuracy: 0.8690\n",
      "Epoch 18/100\n",
      "11/11 [==============================] - 0s 7ms/step - loss: 0.4090 - accuracy: 0.8529 - val_loss: 0.4062 - val_accuracy: 0.8690\n",
      "Epoch 19/100\n",
      "11/11 [==============================] - 0s 7ms/step - loss: 0.4064 - accuracy: 0.8529 - val_loss: 0.4093 - val_accuracy: 0.8690\n",
      "Epoch 20/100\n",
      "11/11 [==============================] - 0s 4ms/step - loss: 0.4063 - accuracy: 0.8529 - val_loss: 0.4113 - val_accuracy: 0.8690\n",
      "Epoch 21/100\n",
      "11/11 [==============================] - 0s 5ms/step - loss: 0.4073 - accuracy: 0.8529 - val_loss: 0.4129 - val_accuracy: 0.8690\n",
      "Epoch 22/100\n",
      "11/11 [==============================] - 0s 5ms/step - loss: 0.4087 - accuracy: 0.8529 - val_loss: 0.4084 - val_accuracy: 0.8690\n",
      "Epoch 23/100\n",
      "11/11 [==============================] - 0s 4ms/step - loss: 0.4052 - accuracy: 0.8529 - val_loss: 0.4118 - val_accuracy: 0.8690\n",
      "Epoch 24/100\n",
      "11/11 [==============================] - 0s 4ms/step - loss: 0.4060 - accuracy: 0.8529 - val_loss: 0.4142 - val_accuracy: 0.8690\n",
      "Epoch 25/100\n",
      "11/11 [==============================] - 0s 4ms/step - loss: 0.4049 - accuracy: 0.8529 - val_loss: 0.4135 - val_accuracy: 0.8690\n",
      "Epoch 26/100\n",
      "11/11 [==============================] - 0s 5ms/step - loss: 0.4058 - accuracy: 0.8529 - val_loss: 0.4148 - val_accuracy: 0.8690\n",
      "Epoch 27/100\n",
      "11/11 [==============================] - 0s 5ms/step - loss: 0.4049 - accuracy: 0.8529 - val_loss: 0.4156 - val_accuracy: 0.8690\n",
      "Epoch 28/100\n",
      "11/11 [==============================] - 0s 5ms/step - loss: 0.4057 - accuracy: 0.8529 - val_loss: 0.4133 - val_accuracy: 0.8690\n",
      "Epoch 29/100\n",
      "11/11 [==============================] - 0s 5ms/step - loss: 0.4052 - accuracy: 0.8529 - val_loss: 0.4206 - val_accuracy: 0.8690\n",
      "Epoch 30/100\n",
      "11/11 [==============================] - 0s 4ms/step - loss: 0.4049 - accuracy: 0.8529 - val_loss: 0.4161 - val_accuracy: 0.8690\n",
      "Epoch 31/100\n",
      "11/11 [==============================] - 0s 4ms/step - loss: 0.4045 - accuracy: 0.8529 - val_loss: 0.4177 - val_accuracy: 0.8690\n",
      "Epoch 32/100\n",
      "11/11 [==============================] - 0s 6ms/step - loss: 0.4070 - accuracy: 0.8529 - val_loss: 0.4149 - val_accuracy: 0.8690\n",
      "Epoch 33/100\n",
      "11/11 [==============================] - 0s 4ms/step - loss: 0.4036 - accuracy: 0.8529 - val_loss: 0.4186 - val_accuracy: 0.8690\n",
      "Epoch 34/100\n",
      "11/11 [==============================] - 0s 6ms/step - loss: 0.4037 - accuracy: 0.8529 - val_loss: 0.4188 - val_accuracy: 0.8690\n",
      "Epoch 35/100\n",
      "11/11 [==============================] - 0s 5ms/step - loss: 0.4047 - accuracy: 0.8529 - val_loss: 0.4217 - val_accuracy: 0.8690\n",
      "Epoch 36/100\n",
      "11/11 [==============================] - 0s 5ms/step - loss: 0.4033 - accuracy: 0.8529 - val_loss: 0.4179 - val_accuracy: 0.8690\n",
      "Epoch 37/100\n",
      "11/11 [==============================] - 0s 5ms/step - loss: 0.4041 - accuracy: 0.8529 - val_loss: 0.4175 - val_accuracy: 0.8690\n",
      "Epoch 38/100\n",
      "11/11 [==============================] - 0s 4ms/step - loss: 0.4036 - accuracy: 0.8529 - val_loss: 0.4180 - val_accuracy: 0.8690\n",
      "Epoch 39/100\n",
      "11/11 [==============================] - 0s 5ms/step - loss: 0.4029 - accuracy: 0.8529 - val_loss: 0.4211 - val_accuracy: 0.8690\n",
      "Epoch 40/100\n",
      "11/11 [==============================] - 0s 5ms/step - loss: 0.4051 - accuracy: 0.8529 - val_loss: 0.4208 - val_accuracy: 0.8690\n",
      "Epoch 41/100\n",
      "11/11 [==============================] - 0s 5ms/step - loss: 0.4042 - accuracy: 0.8529 - val_loss: 0.4174 - val_accuracy: 0.8690\n",
      "Epoch 42/100\n",
      "11/11 [==============================] - 0s 11ms/step - loss: 0.4027 - accuracy: 0.8529 - val_loss: 0.4201 - val_accuracy: 0.8690\n",
      "Epoch 43/100\n",
      "11/11 [==============================] - 0s 6ms/step - loss: 0.4022 - accuracy: 0.8529 - val_loss: 0.4220 - val_accuracy: 0.8690\n",
      "Epoch 44/100\n",
      "11/11 [==============================] - 0s 6ms/step - loss: 0.4072 - accuracy: 0.8529 - val_loss: 0.4291 - val_accuracy: 0.8690\n",
      "Epoch 45/100\n",
      "11/11 [==============================] - 0s 5ms/step - loss: 0.4007 - accuracy: 0.8529 - val_loss: 0.4226 - val_accuracy: 0.8690\n",
      "Epoch 46/100\n",
      "11/11 [==============================] - 0s 5ms/step - loss: 0.4035 - accuracy: 0.8529 - val_loss: 0.4218 - val_accuracy: 0.8690\n",
      "Epoch 47/100\n",
      "11/11 [==============================] - 0s 5ms/step - loss: 0.4030 - accuracy: 0.8529 - val_loss: 0.4217 - val_accuracy: 0.8690\n",
      "Epoch 48/100\n",
      "11/11 [==============================] - 0s 4ms/step - loss: 0.4020 - accuracy: 0.8529 - val_loss: 0.4239 - val_accuracy: 0.8690\n",
      "Epoch 49/100\n",
      "11/11 [==============================] - 0s 4ms/step - loss: 0.4024 - accuracy: 0.8529 - val_loss: 0.4210 - val_accuracy: 0.8690\n",
      "Epoch 50/100\n",
      "11/11 [==============================] - 0s 4ms/step - loss: 0.4031 - accuracy: 0.8529 - val_loss: 0.4217 - val_accuracy: 0.8690\n",
      "Epoch 51/100\n",
      "11/11 [==============================] - 0s 4ms/step - loss: 0.4011 - accuracy: 0.8529 - val_loss: 0.4268 - val_accuracy: 0.8690\n",
      "Epoch 52/100\n",
      "11/11 [==============================] - 0s 4ms/step - loss: 0.4019 - accuracy: 0.8529 - val_loss: 0.4253 - val_accuracy: 0.8690\n",
      "Epoch 53/100\n",
      "11/11 [==============================] - 0s 4ms/step - loss: 0.4030 - accuracy: 0.8529 - val_loss: 0.4248 - val_accuracy: 0.8690\n",
      "Epoch 54/100\n",
      "11/11 [==============================] - 0s 4ms/step - loss: 0.4020 - accuracy: 0.8529 - val_loss: 0.4243 - val_accuracy: 0.8690\n",
      "Epoch 55/100\n",
      "11/11 [==============================] - 0s 4ms/step - loss: 0.4027 - accuracy: 0.8529 - val_loss: 0.4241 - val_accuracy: 0.8690\n",
      "Epoch 56/100\n",
      "11/11 [==============================] - 0s 4ms/step - loss: 0.4017 - accuracy: 0.8529 - val_loss: 0.4260 - val_accuracy: 0.8690\n",
      "Epoch 57/100\n",
      "11/11 [==============================] - 0s 5ms/step - loss: 0.4035 - accuracy: 0.8529 - val_loss: 0.4293 - val_accuracy: 0.8690\n",
      "Epoch 58/100\n",
      "11/11 [==============================] - 0s 4ms/step - loss: 0.4011 - accuracy: 0.8529 - val_loss: 0.4249 - val_accuracy: 0.8690\n",
      "Epoch 59/100\n",
      "11/11 [==============================] - 0s 4ms/step - loss: 0.4025 - accuracy: 0.8529 - val_loss: 0.4293 - val_accuracy: 0.8690\n",
      "Epoch 60/100\n",
      "11/11 [==============================] - 0s 4ms/step - loss: 0.4014 - accuracy: 0.8529 - val_loss: 0.4291 - val_accuracy: 0.8690\n",
      "Epoch 61/100\n",
      "11/11 [==============================] - 0s 5ms/step - loss: 0.4007 - accuracy: 0.8529 - val_loss: 0.4266 - val_accuracy: 0.8690\n",
      "Epoch 62/100\n",
      "11/11 [==============================] - 0s 6ms/step - loss: 0.4017 - accuracy: 0.8529 - val_loss: 0.4288 - val_accuracy: 0.8690\n",
      "Epoch 63/100\n",
      "11/11 [==============================] - 0s 4ms/step - loss: 0.4013 - accuracy: 0.8529 - val_loss: 0.4295 - val_accuracy: 0.8690\n",
      "Epoch 64/100\n",
      "11/11 [==============================] - 0s 4ms/step - loss: 0.4019 - accuracy: 0.8529 - val_loss: 0.4342 - val_accuracy: 0.8690\n",
      "Epoch 65/100\n",
      "11/11 [==============================] - 0s 4ms/step - loss: 0.4008 - accuracy: 0.8529 - val_loss: 0.4297 - val_accuracy: 0.8690\n",
      "Epoch 66/100\n",
      "11/11 [==============================] - 0s 4ms/step - loss: 0.4059 - accuracy: 0.8529 - val_loss: 0.4257 - val_accuracy: 0.8690\n",
      "Epoch 67/100\n",
      "11/11 [==============================] - 0s 4ms/step - loss: 0.4042 - accuracy: 0.8529 - val_loss: 0.4343 - val_accuracy: 0.8690\n",
      "Epoch 68/100\n",
      "11/11 [==============================] - 0s 4ms/step - loss: 0.4018 - accuracy: 0.8529 - val_loss: 0.4322 - val_accuracy: 0.8690\n",
      "Epoch 69/100\n",
      "11/11 [==============================] - 0s 4ms/step - loss: 0.3998 - accuracy: 0.8529 - val_loss: 0.4283 - val_accuracy: 0.8690\n",
      "Epoch 70/100\n",
      "11/11 [==============================] - 0s 4ms/step - loss: 0.4012 - accuracy: 0.8529 - val_loss: 0.4285 - val_accuracy: 0.8690\n",
      "Epoch 71/100\n",
      "11/11 [==============================] - 0s 4ms/step - loss: 0.4010 - accuracy: 0.8529 - val_loss: 0.4320 - val_accuracy: 0.8690\n",
      "Epoch 72/100\n",
      "11/11 [==============================] - 0s 4ms/step - loss: 0.3997 - accuracy: 0.8529 - val_loss: 0.4313 - val_accuracy: 0.8690\n",
      "Epoch 73/100\n",
      "11/11 [==============================] - 0s 9ms/step - loss: 0.4005 - accuracy: 0.8529 - val_loss: 0.4298 - val_accuracy: 0.8690\n",
      "Epoch 74/100\n",
      "11/11 [==============================] - 0s 5ms/step - loss: 0.4006 - accuracy: 0.8529 - val_loss: 0.4299 - val_accuracy: 0.8690\n",
      "Epoch 75/100\n",
      "11/11 [==============================] - 0s 4ms/step - loss: 0.4005 - accuracy: 0.8529 - val_loss: 0.4298 - val_accuracy: 0.8690\n",
      "Epoch 76/100\n",
      "11/11 [==============================] - 0s 4ms/step - loss: 0.4016 - accuracy: 0.8529 - val_loss: 0.4341 - val_accuracy: 0.8690\n",
      "Epoch 77/100\n",
      "11/11 [==============================] - 0s 4ms/step - loss: 0.4034 - accuracy: 0.8529 - val_loss: 0.4319 - val_accuracy: 0.8690\n",
      "Epoch 78/100\n",
      "11/11 [==============================] - 0s 4ms/step - loss: 0.4009 - accuracy: 0.8529 - val_loss: 0.4371 - val_accuracy: 0.8690\n",
      "Epoch 79/100\n",
      "11/11 [==============================] - 0s 4ms/step - loss: 0.4011 - accuracy: 0.8529 - val_loss: 0.4341 - val_accuracy: 0.8690\n",
      "Epoch 80/100\n",
      "11/11 [==============================] - 0s 4ms/step - loss: 0.3990 - accuracy: 0.8529 - val_loss: 0.4309 - val_accuracy: 0.8690\n",
      "Epoch 81/100\n",
      "11/11 [==============================] - 0s 4ms/step - loss: 0.4022 - accuracy: 0.8529 - val_loss: 0.4317 - val_accuracy: 0.8690\n",
      "Epoch 82/100\n",
      "11/11 [==============================] - 0s 4ms/step - loss: 0.4042 - accuracy: 0.8529 - val_loss: 0.4392 - val_accuracy: 0.8690\n",
      "Epoch 83/100\n",
      "11/11 [==============================] - 0s 4ms/step - loss: 0.4014 - accuracy: 0.8529 - val_loss: 0.4353 - val_accuracy: 0.8690\n",
      "Epoch 84/100\n",
      "11/11 [==============================] - 0s 4ms/step - loss: 0.3998 - accuracy: 0.8529 - val_loss: 0.4342 - val_accuracy: 0.8690\n",
      "Epoch 85/100\n",
      "11/11 [==============================] - 0s 4ms/step - loss: 0.4004 - accuracy: 0.8529 - val_loss: 0.4357 - val_accuracy: 0.8690\n",
      "Epoch 86/100\n",
      "11/11 [==============================] - 0s 4ms/step - loss: 0.3996 - accuracy: 0.8529 - val_loss: 0.4369 - val_accuracy: 0.8690\n",
      "Epoch 87/100\n",
      "11/11 [==============================] - 0s 4ms/step - loss: 0.3995 - accuracy: 0.8529 - val_loss: 0.4360 - val_accuracy: 0.8690\n",
      "Epoch 88/100\n",
      "11/11 [==============================] - 0s 4ms/step - loss: 0.4014 - accuracy: 0.8529 - val_loss: 0.4351 - val_accuracy: 0.8690\n",
      "Epoch 89/100\n",
      "11/11 [==============================] - 0s 4ms/step - loss: 0.4010 - accuracy: 0.8529 - val_loss: 0.4430 - val_accuracy: 0.8690\n",
      "Epoch 90/100\n",
      "11/11 [==============================] - 0s 4ms/step - loss: 0.3997 - accuracy: 0.8529 - val_loss: 0.4379 - val_accuracy: 0.8690\n",
      "Epoch 91/100\n",
      "11/11 [==============================] - 0s 4ms/step - loss: 0.3989 - accuracy: 0.8529 - val_loss: 0.4370 - val_accuracy: 0.8690\n",
      "Epoch 92/100\n",
      "11/11 [==============================] - 0s 4ms/step - loss: 0.3996 - accuracy: 0.8529 - val_loss: 0.4356 - val_accuracy: 0.8690\n",
      "Epoch 93/100\n",
      "11/11 [==============================] - 0s 4ms/step - loss: 0.3992 - accuracy: 0.8529 - val_loss: 0.4376 - val_accuracy: 0.8690\n",
      "Epoch 94/100\n",
      "11/11 [==============================] - 0s 4ms/step - loss: 0.3991 - accuracy: 0.8529 - val_loss: 0.4386 - val_accuracy: 0.8690\n",
      "Epoch 95/100\n",
      "11/11 [==============================] - 0s 4ms/step - loss: 0.3990 - accuracy: 0.8529 - val_loss: 0.4426 - val_accuracy: 0.8690\n",
      "Epoch 96/100\n",
      "11/11 [==============================] - 0s 5ms/step - loss: 0.3997 - accuracy: 0.8529 - val_loss: 0.4402 - val_accuracy: 0.8690\n",
      "Epoch 97/100\n",
      "11/11 [==============================] - 0s 4ms/step - loss: 0.3996 - accuracy: 0.8529 - val_loss: 0.4389 - val_accuracy: 0.8690\n",
      "Epoch 98/100\n",
      "11/11 [==============================] - 0s 4ms/step - loss: 0.3989 - accuracy: 0.8529 - val_loss: 0.4381 - val_accuracy: 0.8690\n",
      "Epoch 99/100\n",
      "11/11 [==============================] - 0s 4ms/step - loss: 0.3984 - accuracy: 0.8529 - val_loss: 0.4400 - val_accuracy: 0.8690\n",
      "Epoch 100/100\n",
      "11/11 [==============================] - 0s 3ms/step - loss: 0.4000 - accuracy: 0.8529 - val_loss: 0.4460 - val_accuracy: 0.8690\n",
      "5/5 - 0s - loss: 0.3169 - accuracy: 0.9071 - 42ms/epoch - 8ms/step\n",
      "Test accuracy: 0.9071428775787354\n"
     ]
    }
   ],
   "source": [
    "\n",
    "history = modelo.fit(X_train, Y_train, epochs=100,\n",
    "                    batch_size=32, validation_split=0.2)\n",
    "\n",
    "# Evaluate model on test set\n",
    "test_loss, test_acc = modelo.evaluate(X_test, Y_test, verbose=2)\n",
    "print('Test accuracy:', test_acc)\n",
    "\n"
   ]
  },
  {
   "attachments": {},
   "cell_type": "markdown",
   "metadata": {},
   "source": [
    "Predicción"
   ]
  },
  {
   "cell_type": "code",
   "execution_count": 99,
   "metadata": {},
   "outputs": [
    {
     "name": "stdout",
     "output_type": "stream",
     "text": [
      "1/1 [==============================] - 0s 43ms/step\n",
      "Con base en los datos suministrados hay un 4.64% de probabilidad de que el préstamo sea aprobado\n"
     ]
    }
   ],
   "source": [
    "# ['Historial_crediticio', 'Educacion', 'Casado', 'Dependientes']\n",
    "X_test_1 = np.array([[1, 0, 1, 1000]])\n",
    "\n",
    "scaler_1 = MinMaxScaler()\n",
    "X_test_scaled_1 = scaler_1.fit_transform(X_test_1)\n",
    "\n",
    "Y_predict_1 = modelo.predict(X_test_scaled_1)\n",
    "\n",
    "# Revertir escalado\n",
    "Y_predict_1 = scaler.inverse_transform(Y_predict_1)\n",
    "\n",
    "prediction = Y_predict_1[0][0]\n",
    "print(\n",
    "    f\"Con base en los datos suministrados hay un {prediction*100:.2f}% de probabilidad de que el préstamo sea aprobado\")\n",
    "\n"
   ]
  }
 ],
 "metadata": {
  "kernelspec": {
   "display_name": "Python 3",
   "language": "python",
   "name": "python3"
  },
  "language_info": {
   "codemirror_mode": {
    "name": "ipython",
    "version": 3
   },
   "file_extension": ".py",
   "mimetype": "text/x-python",
   "name": "python",
   "nbconvert_exporter": "python",
   "pygments_lexer": "ipython3",
   "version": "3.10.4"
  },
  "orig_nbformat": 4,
  "vscode": {
   "interpreter": {
    "hash": "a4a250c60c6d53ce6e306b509684d94ef3bd79ed4d8e7bfbf3835179c995279e"
   }
  }
 },
 "nbformat": 4,
 "nbformat_minor": 2
}
