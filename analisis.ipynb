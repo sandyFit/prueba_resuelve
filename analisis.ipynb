{
 "cells": [
  {
   "cell_type": "code",
   "execution_count": null,
   "metadata": {},
   "outputs": [],
   "source": [
    "import pandas as pd\n",
    "import numpy as np\n",
    "import seaborn as sns\n",
    "import matplotlib.pyplot as plt\n"
   ]
  },
  {
   "cell_type": "code",
   "execution_count": 2,
   "metadata": {},
   "outputs": [
    {
     "data": {
      "text/html": [
       "<div>\n",
       "<style scoped>\n",
       "    .dataframe tbody tr th:only-of-type {\n",
       "        vertical-align: middle;\n",
       "    }\n",
       "\n",
       "    .dataframe tbody tr th {\n",
       "        vertical-align: top;\n",
       "    }\n",
       "\n",
       "    .dataframe thead th {\n",
       "        text-align: right;\n",
       "    }\n",
       "</style>\n",
       "<table border=\"1\" class=\"dataframe\">\n",
       "  <thead>\n",
       "    <tr style=\"text-align: right;\">\n",
       "      <th></th>\n",
       "      <th>Fecha_registro</th>\n",
       "      <th>Fecha_contacto</th>\n",
       "      <th>Id</th>\n",
       "      <th>Genero</th>\n",
       "      <th>Casado</th>\n",
       "      <th>Dependientes</th>\n",
       "      <th>Educacion</th>\n",
       "      <th>Trabaja_para_el</th>\n",
       "      <th>Salario</th>\n",
       "      <th>Salario_Pareja</th>\n",
       "      <th>Credito_pedido</th>\n",
       "      <th>Plazo_prestamo</th>\n",
       "      <th>Historial_crediticio</th>\n",
       "      <th>Area_vivienda</th>\n",
       "      <th>Estatus_prestamo</th>\n",
       "      <th>Asesor_asignado</th>\n",
       "    </tr>\n",
       "  </thead>\n",
       "  <tbody>\n",
       "    <tr>\n",
       "      <th>0</th>\n",
       "      <td>02/26/2019 11:00 AM</td>\n",
       "      <td>02/27/2019 12:03 PM</td>\n",
       "      <td>LP002519</td>\n",
       "      <td>Hombre</td>\n",
       "      <td>1</td>\n",
       "      <td>4</td>\n",
       "      <td>1</td>\n",
       "      <td>No</td>\n",
       "      <td>4691.0</td>\n",
       "      <td>0.0</td>\n",
       "      <td>100.0</td>\n",
       "      <td>360.0</td>\n",
       "      <td>1</td>\n",
       "      <td>Semiurbana</td>\n",
       "      <td>1</td>\n",
       "      <td>Dudley</td>\n",
       "    </tr>\n",
       "    <tr>\n",
       "      <th>1</th>\n",
       "      <td>02/27/2019 02:52 PM</td>\n",
       "      <td>02/26/2019 07:43 AM</td>\n",
       "      <td>LP001280</td>\n",
       "      <td>Hombre</td>\n",
       "      <td>1</td>\n",
       "      <td>2</td>\n",
       "      <td>0</td>\n",
       "      <td>No</td>\n",
       "      <td>3333.0</td>\n",
       "      <td>2000.0</td>\n",
       "      <td>99.0</td>\n",
       "      <td>360.0</td>\n",
       "      <td>1</td>\n",
       "      <td>Semiurbana</td>\n",
       "      <td>1</td>\n",
       "      <td>Pablo</td>\n",
       "    </tr>\n",
       "    <tr>\n",
       "      <th>2</th>\n",
       "      <td>02/27/2019 08:18 AM</td>\n",
       "      <td>02/28/2019 02:27 PM</td>\n",
       "      <td>LP001151</td>\n",
       "      <td>Mujer</td>\n",
       "      <td>0</td>\n",
       "      <td>0</td>\n",
       "      <td>1</td>\n",
       "      <td>No</td>\n",
       "      <td>4000.0</td>\n",
       "      <td>2275.0</td>\n",
       "      <td>144.0</td>\n",
       "      <td>360.0</td>\n",
       "      <td>1</td>\n",
       "      <td>Semiurbana</td>\n",
       "      <td>1</td>\n",
       "      <td>Dudley</td>\n",
       "    </tr>\n",
       "    <tr>\n",
       "      <th>3</th>\n",
       "      <td>02/28/2019 10:00 AM</td>\n",
       "      <td>03/01/2019 12:57 PM</td>\n",
       "      <td>LP002036</td>\n",
       "      <td>Hombre</td>\n",
       "      <td>1</td>\n",
       "      <td>0</td>\n",
       "      <td>1</td>\n",
       "      <td>No</td>\n",
       "      <td>2058.0</td>\n",
       "      <td>2134.0</td>\n",
       "      <td>88.0</td>\n",
       "      <td>360.0</td>\n",
       "      <td>1</td>\n",
       "      <td>Urbana</td>\n",
       "      <td>1</td>\n",
       "      <td>Ana</td>\n",
       "    </tr>\n",
       "    <tr>\n",
       "      <th>4</th>\n",
       "      <td>02/26/2019 07:40 AM</td>\n",
       "      <td>02/27/2019 04:35 PM</td>\n",
       "      <td>LP002894</td>\n",
       "      <td>Mujer</td>\n",
       "      <td>1</td>\n",
       "      <td>0</td>\n",
       "      <td>1</td>\n",
       "      <td>No</td>\n",
       "      <td>3166.0</td>\n",
       "      <td>0.0</td>\n",
       "      <td>36.0</td>\n",
       "      <td>360.0</td>\n",
       "      <td>1</td>\n",
       "      <td>Semiurbana</td>\n",
       "      <td>1</td>\n",
       "      <td>Regina</td>\n",
       "    </tr>\n",
       "  </tbody>\n",
       "</table>\n",
       "</div>"
      ],
      "text/plain": [
       "        Fecha_registro       Fecha_contacto        Id  Genero  Casado  \\\n",
       "0  02/26/2019 11:00 AM  02/27/2019 12:03 PM  LP002519  Hombre       1   \n",
       "1  02/27/2019 02:52 PM  02/26/2019 07:43 AM  LP001280  Hombre       1   \n",
       "2  02/27/2019 08:18 AM  02/28/2019 02:27 PM  LP001151   Mujer       0   \n",
       "3  02/28/2019 10:00 AM  03/01/2019 12:57 PM  LP002036  Hombre       1   \n",
       "4  02/26/2019 07:40 AM  02/27/2019 04:35 PM  LP002894   Mujer       1   \n",
       "\n",
       "   Dependientes  Educacion Trabaja_para_el  Salario  Salario_Pareja  \\\n",
       "0             4          1              No   4691.0             0.0   \n",
       "1             2          0              No   3333.0          2000.0   \n",
       "2             0          1              No   4000.0          2275.0   \n",
       "3             0          1              No   2058.0          2134.0   \n",
       "4             0          1              No   3166.0             0.0   \n",
       "\n",
       "   Credito_pedido  Plazo_prestamo  Historial_crediticio Area_vivienda  \\\n",
       "0           100.0           360.0                     1    Semiurbana   \n",
       "1            99.0           360.0                     1    Semiurbana   \n",
       "2           144.0           360.0                     1    Semiurbana   \n",
       "3            88.0           360.0                     1        Urbana   \n",
       "4            36.0           360.0                     1    Semiurbana   \n",
       "\n",
       "   Estatus_prestamo Asesor_asignado  \n",
       "0                 1          Dudley  \n",
       "1                 1           Pablo  \n",
       "2                 1          Dudley  \n",
       "3                 1             Ana  \n",
       "4                 1          Regina  "
      ]
     },
     "execution_count": 2,
     "metadata": {},
     "output_type": "execute_result"
    }
   ],
   "source": [
    "df = pd.read_csv('data.csv', index_col=0)\n",
    "df.head()"
   ]
  },
  {
   "attachments": {},
   "cell_type": "markdown",
   "metadata": {},
   "source": [
    "# Análisis de correlación\n",
    "La variable objetivo es ['Estatus_prestamo']\n"
   ]
  },
  {
   "cell_type": "code",
   "execution_count": 3,
   "metadata": {},
   "outputs": [
    {
     "name": "stdout",
     "output_type": "stream",
     "text": [
      "Estatus_prestamo        1.000000\n",
      "Historial_crediticio    0.560134\n",
      "Casado                  0.074108\n",
      "Educacion               0.055208\n",
      "Dependientes           -0.005219\n",
      "Salario                -0.045849\n",
      "Plazo_prestamo         -0.047869\n",
      "Credito_pedido         -0.088074\n",
      "Salario_Pareja         -0.106528\n",
      "Name: Estatus_prestamo, dtype: float64\n"
     ]
    },
    {
     "name": "stderr",
     "output_type": "stream",
     "text": [
      "C:\\Users\\trish\\AppData\\Local\\Temp\\ipykernel_11552\\335936557.py:1: FutureWarning: The default value of numeric_only in DataFrame.corr is deprecated. In a future version, it will default to False. Select only valid columns or specify the value of numeric_only to silence this warning.\n",
      "  correlations = df.corr()['Estatus_prestamo']\n"
     ]
    }
   ],
   "source": [
    "correlations = df.corr()['Estatus_prestamo']\n",
    "\n",
    "print(correlations.sort_values(ascending=False))\n"
   ]
  },
  {
   "cell_type": "code",
   "execution_count": 4,
   "metadata": {},
   "outputs": [
    {
     "name": "stderr",
     "output_type": "stream",
     "text": [
      "C:\\Users\\trish\\AppData\\Local\\Temp\\ipykernel_11552\\3691711562.py:1: FutureWarning: The default value of numeric_only in DataFrame.corr is deprecated. In a future version, it will default to False. Select only valid columns or specify the value of numeric_only to silence this warning.\n",
      "  sns.heatmap(df.corr(), cmap=\"YlGnBu\", annot=True, fmt=\".2f\")\n"
     ]
    },
    {
     "data": {
      "text/plain": [
       "<Axes: >"
      ]
     },
     "execution_count": 4,
     "metadata": {},
     "output_type": "execute_result"
    },
    {
     "data": {
      "image/png": "[encoded data removed]",
      "text/plain": [
       "<Figure size 432x288 with 2 Axes>"
      ]
     },
     "metadata": {
      "needs_background": "light"
     },
     "output_type": "display_data"
    }
   ],
   "source": [
    "sns.heatmap(df.corr(), cmap=\"YlGnBu\", annot=True, fmt=\".2f\")\n"
   ]
  },
  {
   "cell_type": "code",
   "execution_count": 5,
   "metadata": {},
   "outputs": [
    {
     "data": {
      "text/plain": [
       "(0.0, 1.05)"
      ]
     },
     "execution_count": 5,
     "metadata": {},
     "output_type": "execute_result"
    },
    {
     "data": {
      "image/png": "[encoded data removed]",
      "text/plain": [
       "<Figure size 432x288 with 1 Axes>"
      ]
     },
     "metadata": {
      "needs_background": "light"
     },
     "output_type": "display_data"
    }
   ],
   "source": [
    "sns.regplot(x='Estatus_prestamo', y='Historial_crediticio', data=df)\n",
    "plt.ylim(0,)\n"
   ]
  },
  {
   "attachments": {},
   "cell_type": "markdown",
   "metadata": {},
   "source": [
    "En este caso, los resultados indican que ['Historial_crediticio'] tiene la correlación positiva más alta con la variable objetivo ['Estatus_prestamo'] (0.56), lo que podría significar que a medida que aumenta ['Historial_crediticio'], también aumenta la probabilidad de que se apruebe un préstamo. Esta es una correlación positiva moderada, lo que sugiere una relación significativa entre estas dos variables.\n",
    "\n",
    "También se observa una pequeña correlación positiva con las variables ['Casado'] y ['Educacion']. Esto sugiere que los solicitantes con niveles de educación más altos o los que están casados podrían tener más probabilidades de obtener un préstamo.\n",
    "\n",
    "Por otro lado, ['Salario'] y ['Salario_pareja'] tienen correlaciones negativas con la variable objetivo, aunque las correlaciones son débiles. Esto sugiere que los solicitantes con salarios más bajos o cuyas parejas tienen salarios más bajos pueden tener más probabilidades de obtener un préstamo.\n",
    "\n",
    "Por último, ['Plazo_prestamo'] y ['Credit_pedido'] también tienen correlaciones negativas débiles con ['Estatus_prestamo'], lo que indica que las personas que solicitan préstamos más grandes o que tienen períodos de préstamo más largos pueden tener menos probabilidades de obtener un préstamo."
   ]
  },
  {
   "cell_type": "markdown",
   "metadata": {},
   "source": [
    "# Agrupar data por ['Estatus_prestamo'] \n",
    "Calcular mediana, promedio y desviación standard para ['Salario'] y ['Salario_Pareja']"
   ]
  },
  {
   "cell_type": "code",
   "execution_count": 6,
   "metadata": {},
   "outputs": [],
   "source": [
    "\n",
    "stats = df.groupby('Estatus_prestamo')[['Salario', 'Salario_Pareja']].agg(\n",
    "    ['mean', 'median', 'std'])\n"
   ]
  },
  {
   "cell_type": "code",
   "execution_count": 7,
   "metadata": {},
   "outputs": [
    {
     "name": "stdout",
     "output_type": "stream",
     "text": [
      "                      Salario                      Salario_Pareja          \\\n",
      "                         mean  median          std           mean  median   \n",
      "Estatus_prestamo                                                            \n",
      "0                 6041.247863  3875.0  8387.818237    2293.726496  1451.0   \n",
      "1                 5329.250000  3793.5  5663.461102    1523.950091  1280.0   \n",
      "\n",
      "                               \n",
      "                          std  \n",
      "Estatus_prestamo               \n",
      "0                 5191.809668  \n",
      "1                 1935.427825  \n"
     ]
    }
   ],
   "source": [
    "print(stats)"
   ]
  },
  {
   "cell_type": "code",
   "execution_count": 8,
   "metadata": {},
   "outputs": [
    {
     "data": {
      "image/png": "[encoded data removed]",
      "text/plain": [
       "<Figure size 432x288 with 1 Axes>"
      ]
     },
     "metadata": {
      "needs_background": "light"
     },
     "output_type": "display_data"
    }
   ],
   "source": [
    "\n",
    "sns.boxplot(x='Estatus_prestamo', y='Salario', data=df)\n",
    "\n",
    "plt.title('Salario x Estatus_prestamo')\n",
    "plt.xlabel('Estatus_prestamo')\n",
    "plt.ylabel('Salario')\n",
    "\n",
    "# Show plot\n",
    "plt.show()\n"
   ]
  },
  {
   "cell_type": "markdown",
   "metadata": {},
   "source": [
    "Parece que a las personas a las que se les concedió un préstamo tendieron a tener valores medios y medianos más bajos para ['Salario'] y ['Salario_Pareja'] en comparación con aquellas a las que no se les concedió un préstamo. Esto podría significar una correlación negativa entre estas variables y la variable objetivo.\n",
    "En el gráfico observamos la presencia de outliers que podrían estar incidiendo en el resultado\n",
    "\n",
    "# Agrupar datos para checar outliers"
   ]
  },
  {
   "cell_type": "code",
   "execution_count": 9,
   "metadata": {},
   "outputs": [
    {
     "data": {
      "text/plain": [
       "array([  150., 27100., 54050., 81000.])"
      ]
     },
     "execution_count": 9,
     "metadata": {},
     "output_type": "execute_result"
    }
   ],
   "source": [
    "bins = np.linspace(min(df['Salario']), max(df['Salario']), 4)\n",
    "bins"
   ]
  },
  {
   "cell_type": "code",
   "execution_count": 10,
   "metadata": {},
   "outputs": [],
   "source": [
    "grupos = ['Bajo', 'Medio', 'Alto']"
   ]
  },
  {
   "cell_type": "code",
   "execution_count": 11,
   "metadata": {},
   "outputs": [
    {
     "data": {
      "text/html": [
       "<div>\n",
       "<style scoped>\n",
       "    .dataframe tbody tr th:only-of-type {\n",
       "        vertical-align: middle;\n",
       "    }\n",
       "\n",
       "    .dataframe tbody tr th {\n",
       "        vertical-align: top;\n",
       "    }\n",
       "\n",
       "    .dataframe thead th {\n",
       "        text-align: right;\n",
       "    }\n",
       "</style>\n",
       "<table border=\"1\" class=\"dataframe\">\n",
       "  <thead>\n",
       "    <tr style=\"text-align: right;\">\n",
       "      <th></th>\n",
       "      <th>Salario</th>\n",
       "      <th>Salario-agrupado</th>\n",
       "    </tr>\n",
       "  </thead>\n",
       "  <tbody>\n",
       "    <tr>\n",
       "      <th>517</th>\n",
       "      <td>2492.0</td>\n",
       "      <td>Bajo</td>\n",
       "    </tr>\n",
       "    <tr>\n",
       "      <th>205</th>\n",
       "      <td>6256.0</td>\n",
       "      <td>Bajo</td>\n",
       "    </tr>\n",
       "    <tr>\n",
       "      <th>51</th>\n",
       "      <td>6383.0</td>\n",
       "      <td>Bajo</td>\n",
       "    </tr>\n",
       "    <tr>\n",
       "      <th>501</th>\n",
       "      <td>2149.0</td>\n",
       "      <td>Bajo</td>\n",
       "    </tr>\n",
       "    <tr>\n",
       "      <th>543</th>\n",
       "      <td>12841.0</td>\n",
       "      <td>Bajo</td>\n",
       "    </tr>\n",
       "    <tr>\n",
       "      <th>113</th>\n",
       "      <td>2301.0</td>\n",
       "      <td>Bajo</td>\n",
       "    </tr>\n",
       "  </tbody>\n",
       "</table>\n",
       "</div>"
      ],
      "text/plain": [
       "     Salario Salario-agrupado\n",
       "517   2492.0             Bajo\n",
       "205   6256.0             Bajo\n",
       "51    6383.0             Bajo\n",
       "501   2149.0             Bajo\n",
       "543  12841.0             Bajo\n",
       "113   2301.0             Bajo"
      ]
     },
     "execution_count": 11,
     "metadata": {},
     "output_type": "execute_result"
    }
   ],
   "source": [
    "df['Salario-agrupado'] = pd.cut(df['Salario'], bins, labels=grupos, include_lowest=True )\n",
    "df[['Salario','Salario-agrupado']].sample(6)"
   ]
  },
  {
   "cell_type": "code",
   "execution_count": 12,
   "metadata": {},
   "outputs": [
    {
     "data": {
      "text/plain": [
       "Bajo     550\n",
       "Medio      5\n",
       "Alto       2\n",
       "Name: Salario-agrupado, dtype: int64"
      ]
     },
     "execution_count": 12,
     "metadata": {},
     "output_type": "execute_result"
    }
   ],
   "source": [
    "df['Salario-agrupado'].value_counts()"
   ]
  },
  {
   "cell_type": "code",
   "execution_count": 13,
   "metadata": {},
   "outputs": [
    {
     "data": {
      "text/plain": [
       "Text(0.5, 1.0, 'grupos')"
      ]
     },
     "execution_count": 13,
     "metadata": {},
     "output_type": "execute_result"
    },
    {
     "data": {
      "image/png": "[encoded data removed]",
      "text/plain": [
       "<Figure size 432x288 with 1 Axes>"
      ]
     },
     "metadata": {
      "needs_background": "light"
     },
     "output_type": "display_data"
    }
   ],
   "source": [
    "plt.bar(grupos, df['Salario-agrupado'].value_counts())\n",
    "plt.xlabel(\"Salario\")\n",
    "plt.ylabel(\"Cantidad\")\n",
    "plt.title(\"grupos\")"
   ]
  },
  {
   "cell_type": "markdown",
   "metadata": {},
   "source": [
    "La presencia de outliers es relativamente baja\n",
    "\n",
    "# Agrupando por ['Area_vivienda']"
   ]
  },
  {
   "cell_type": "code",
   "execution_count": 14,
   "metadata": {},
   "outputs": [
    {
     "data": {
      "text/plain": [
       "array(['Semiurbana', 'Urbana', 'Rural'], dtype=object)"
      ]
     },
     "execution_count": 14,
     "metadata": {},
     "output_type": "execute_result"
    }
   ],
   "source": [
    "df['Area_vivienda'].unique()"
   ]
  },
  {
   "cell_type": "code",
   "execution_count": 15,
   "metadata": {},
   "outputs": [],
   "source": [
    "df_grupo_viv = df[['Area_vivienda','Estatus_prestamo']]"
   ]
  },
  {
   "cell_type": "code",
   "execution_count": 16,
   "metadata": {},
   "outputs": [
    {
     "data": {
      "text/html": [
       "<div>\n",
       "<style scoped>\n",
       "    .dataframe tbody tr th:only-of-type {\n",
       "        vertical-align: middle;\n",
       "    }\n",
       "\n",
       "    .dataframe tbody tr th {\n",
       "        vertical-align: top;\n",
       "    }\n",
       "\n",
       "    .dataframe thead th {\n",
       "        text-align: right;\n",
       "    }\n",
       "</style>\n",
       "<table border=\"1\" class=\"dataframe\">\n",
       "  <thead>\n",
       "    <tr style=\"text-align: right;\">\n",
       "      <th></th>\n",
       "      <th>Area_vivienda</th>\n",
       "      <th>Estatus_prestamo</th>\n",
       "    </tr>\n",
       "  </thead>\n",
       "  <tbody>\n",
       "    <tr>\n",
       "      <th>0</th>\n",
       "      <td>Rural</td>\n",
       "      <td>0.718750</td>\n",
       "    </tr>\n",
       "    <tr>\n",
       "      <th>1</th>\n",
       "      <td>Semiurbana</td>\n",
       "      <td>0.861751</td>\n",
       "    </tr>\n",
       "    <tr>\n",
       "      <th>2</th>\n",
       "      <td>Urbana</td>\n",
       "      <td>0.766667</td>\n",
       "    </tr>\n",
       "  </tbody>\n",
       "</table>\n",
       "</div>"
      ],
      "text/plain": [
       "  Area_vivienda  Estatus_prestamo\n",
       "0         Rural          0.718750\n",
       "1    Semiurbana          0.861751\n",
       "2        Urbana          0.766667"
      ]
     },
     "execution_count": 16,
     "metadata": {},
     "output_type": "execute_result"
    }
   ],
   "source": [
    "df_grupo_viv = df_grupo_viv.groupby(['Area_vivienda'],as_index=False).mean()\n",
    "df_grupo_viv"
   ]
  },
  {
   "cell_type": "markdown",
   "metadata": {},
   "source": [
    "Parece que la ubicación del área de vivienda es un factor significativo en la aprobación del préstamo. Las áreas semiurbanas tienen la proporción más alta de préstamos aprobados, mientras que las áreas rurales tienen la proporción más baja."
   ]
  },
  {
   "cell_type": "code",
   "execution_count": 17,
   "metadata": {},
   "outputs": [
    {
     "data": {
      "text/html": [
       "<div>\n",
       "<style scoped>\n",
       "    .dataframe tbody tr th:only-of-type {\n",
       "        vertical-align: middle;\n",
       "    }\n",
       "\n",
       "    .dataframe tbody tr th {\n",
       "        vertical-align: top;\n",
       "    }\n",
       "\n",
       "    .dataframe thead th {\n",
       "        text-align: right;\n",
       "    }\n",
       "</style>\n",
       "<table border=\"1\" class=\"dataframe\">\n",
       "  <thead>\n",
       "    <tr style=\"text-align: right;\">\n",
       "      <th></th>\n",
       "      <th>Area_vivienda</th>\n",
       "      <th>Casado</th>\n",
       "      <th>Estatus_prestamo</th>\n",
       "    </tr>\n",
       "  </thead>\n",
       "  <tbody>\n",
       "    <tr>\n",
       "      <th>0</th>\n",
       "      <td>Rural</td>\n",
       "      <td>0</td>\n",
       "      <td>0.678571</td>\n",
       "    </tr>\n",
       "    <tr>\n",
       "      <th>1</th>\n",
       "      <td>Rural</td>\n",
       "      <td>1</td>\n",
       "      <td>0.740385</td>\n",
       "    </tr>\n",
       "    <tr>\n",
       "      <th>2</th>\n",
       "      <td>Semiurbana</td>\n",
       "      <td>0</td>\n",
       "      <td>0.855072</td>\n",
       "    </tr>\n",
       "    <tr>\n",
       "      <th>3</th>\n",
       "      <td>Semiurbana</td>\n",
       "      <td>1</td>\n",
       "      <td>0.864865</td>\n",
       "    </tr>\n",
       "    <tr>\n",
       "      <th>4</th>\n",
       "      <td>Urbana</td>\n",
       "      <td>0</td>\n",
       "      <td>0.688525</td>\n",
       "    </tr>\n",
       "    <tr>\n",
       "      <th>5</th>\n",
       "      <td>Urbana</td>\n",
       "      <td>1</td>\n",
       "      <td>0.806723</td>\n",
       "    </tr>\n",
       "  </tbody>\n",
       "</table>\n",
       "</div>"
      ],
      "text/plain": [
       "  Area_vivienda  Casado  Estatus_prestamo\n",
       "0         Rural       0          0.678571\n",
       "1         Rural       1          0.740385\n",
       "2    Semiurbana       0          0.855072\n",
       "3    Semiurbana       1          0.864865\n",
       "4        Urbana       0          0.688525\n",
       "5        Urbana       1          0.806723"
      ]
     },
     "execution_count": 17,
     "metadata": {},
     "output_type": "execute_result"
    }
   ],
   "source": [
    "df_gptest = df[['Area_vivienda', 'Casado', 'Estatus_prestamo']]\n",
    "grupo_test = df_gptest.groupby(\n",
    "    ['Area_vivienda', 'Casado'], as_index=False).mean()\n",
    "grupo_test\n"
   ]
  },
  {
   "cell_type": "code",
   "execution_count": 18,
   "metadata": {},
   "outputs": [
    {
     "data": {
      "text/html": [
       "<div>\n",
       "<style scoped>\n",
       "    .dataframe tbody tr th:only-of-type {\n",
       "        vertical-align: middle;\n",
       "    }\n",
       "\n",
       "    .dataframe tbody tr th {\n",
       "        vertical-align: top;\n",
       "    }\n",
       "\n",
       "    .dataframe thead tr th {\n",
       "        text-align: left;\n",
       "    }\n",
       "\n",
       "    .dataframe thead tr:last-of-type th {\n",
       "        text-align: right;\n",
       "    }\n",
       "</style>\n",
       "<table border=\"1\" class=\"dataframe\">\n",
       "  <thead>\n",
       "    <tr>\n",
       "      <th></th>\n",
       "      <th colspan=\"2\" halign=\"left\">Estatus_prestamo</th>\n",
       "    </tr>\n",
       "    <tr>\n",
       "      <th>Casado</th>\n",
       "      <th>0</th>\n",
       "      <th>1</th>\n",
       "    </tr>\n",
       "    <tr>\n",
       "      <th>Area_vivienda</th>\n",
       "      <th></th>\n",
       "      <th></th>\n",
       "    </tr>\n",
       "  </thead>\n",
       "  <tbody>\n",
       "    <tr>\n",
       "      <th>Rural</th>\n",
       "      <td>0.678571</td>\n",
       "      <td>0.740385</td>\n",
       "    </tr>\n",
       "    <tr>\n",
       "      <th>Semiurbana</th>\n",
       "      <td>0.855072</td>\n",
       "      <td>0.864865</td>\n",
       "    </tr>\n",
       "    <tr>\n",
       "      <th>Urbana</th>\n",
       "      <td>0.688525</td>\n",
       "      <td>0.806723</td>\n",
       "    </tr>\n",
       "  </tbody>\n",
       "</table>\n",
       "</div>"
      ],
      "text/plain": [
       "              Estatus_prestamo          \n",
       "Casado                       0         1\n",
       "Area_vivienda                           \n",
       "Rural                 0.678571  0.740385\n",
       "Semiurbana            0.855072  0.864865\n",
       "Urbana                0.688525  0.806723"
      ]
     },
     "execution_count": 18,
     "metadata": {},
     "output_type": "execute_result"
    }
   ],
   "source": [
    "grouped_pivot = grupo_test.pivot(index='Area_vivienda', columns='Casado')\n",
    "grouped_pivot\n"
   ]
  },
  {
   "cell_type": "markdown",
   "metadata": {},
   "source": [
    "Estos datos muestran que en las zonas rurales, los que están casados ​​tienen una mayor tasa de aprobación de préstamos en comparación con los que no están casados. De manera similar, en las áreas urbanas, quienes están casados ​​tienen una tasa de aprobación de préstamos ligeramente más alta en comparación con quienes no están casados. En áreas semiurbanas, la tasa de aprobación de préstamos es alta para quienes están casados. "
   ]
  },
  {
   "cell_type": "code",
   "execution_count": 19,
   "metadata": {},
   "outputs": [],
   "source": [
    "df_grupo_est = df[['Casado','Estatus_prestamo']]"
   ]
  },
  {
   "cell_type": "code",
   "execution_count": 20,
   "metadata": {},
   "outputs": [
    {
     "data": {
      "text/html": [
       "<div>\n",
       "<style scoped>\n",
       "    .dataframe tbody tr th:only-of-type {\n",
       "        vertical-align: middle;\n",
       "    }\n",
       "\n",
       "    .dataframe tbody tr th {\n",
       "        vertical-align: top;\n",
       "    }\n",
       "\n",
       "    .dataframe thead th {\n",
       "        text-align: right;\n",
       "    }\n",
       "</style>\n",
       "<table border=\"1\" class=\"dataframe\">\n",
       "  <thead>\n",
       "    <tr style=\"text-align: right;\">\n",
       "      <th></th>\n",
       "      <th>Casado</th>\n",
       "      <th>Estatus_prestamo</th>\n",
       "    </tr>\n",
       "  </thead>\n",
       "  <tbody>\n",
       "    <tr>\n",
       "      <th>0</th>\n",
       "      <td>0</td>\n",
       "      <td>0.747312</td>\n",
       "    </tr>\n",
       "    <tr>\n",
       "      <th>1</th>\n",
       "      <td>1</td>\n",
       "      <td>0.811321</td>\n",
       "    </tr>\n",
       "  </tbody>\n",
       "</table>\n",
       "</div>"
      ],
      "text/plain": [
       "   Casado  Estatus_prestamo\n",
       "0       0          0.747312\n",
       "1       1          0.811321"
      ]
     },
     "execution_count": 20,
     "metadata": {},
     "output_type": "execute_result"
    }
   ],
   "source": [
    "df_grupo_est = df_grupo_est.groupby(['Casado'], as_index=False).mean()\n",
    "df_grupo_est\n"
   ]
  },
  {
   "attachments": {},
   "cell_type": "markdown",
   "metadata": {},
   "source": [
    "En general estos datos muestran que las personas casadas tienen una ligera ventaja a la hora de acceder a un crédito"
   ]
  },
  {
   "cell_type": "code",
   "execution_count": 22,
   "metadata": {},
   "outputs": [],
   "source": [
    "from scipy import stats"
   ]
  },
  {
   "cell_type": "code",
   "execution_count": 23,
   "metadata": {},
   "outputs": [
    {
     "name": "stdout",
     "output_type": "stream",
     "text": [
      "The Pearson Correlation Coefficient is 0.5601343908344556  with a P-value of P = 2.5314931745727673e-47\n"
     ]
    }
   ],
   "source": [
    "pearson_coef, p_value = stats.pearsonr(\n",
    "    df['Historial_crediticio'], df['Estatus_prestamo'])\n",
    "print(\"The Pearson Correlation Coefficient is\",\n",
    "      pearson_coef, \" with a P-value of P =\", p_value)\n"
   ]
  },
  {
   "attachments": {},
   "cell_type": "markdown",
   "metadata": {},
   "source": [
    "Estos resultados indican una correlación positiva entre las variables. El coeficiente de correlación de Pearson sugiere que existe una relación lineal entre estas dos variables, por lo que a medida que aumenta el valor de [\"Historial_crediticio\"], también aumenta la probabilidad de que se apruebe un préstamo.\n",
    "El valor P indica que esta correlación es estadísticamente significativa y es poco probable que haya ocurrido por casualidad. Por lo tanto, podemos concluir que [\"Historial_crediticio\"] es un fuerte predictor de [\"Estatus_préstamo\"] y puede usarse como una característic "
   ]
  },
  {
   "cell_type": "code",
   "execution_count": 25,
   "metadata": {},
   "outputs": [
    {
     "name": "stdout",
     "output_type": "stream",
     "text": [
      "The Pearson Correlation Coefficient is 0.05520835935902825  with a P-value of P = 0.19324839830849502\n"
     ]
    }
   ],
   "source": [
    "pearson_coef, p_value = stats.pearsonr(\n",
    "    df['Educacion'], df['Estatus_prestamo'])\n",
    "print(\"The Pearson Correlation Coefficient is\",\n",
    "      pearson_coef, \" with a P-value of P =\", p_value)\n"
   ]
  },
  {
   "attachments": {},
   "cell_type": "markdown",
   "metadata": {},
   "source": [
    "No se puede concluir que exista una correlación significativa entre las dos variables"
   ]
  },
  {
   "cell_type": "code",
   "execution_count": 26,
   "metadata": {},
   "outputs": [
    {
     "name": "stdout",
     "output_type": "stream",
     "text": [
      "The Pearson Correlation Coefficient is 0.07410793351593073  with a P-value of P = 0.08055334652445285\n"
     ]
    }
   ],
   "source": [
    "pearson_coef, p_value = stats.pearsonr(\n",
    "    df['Casado'], df['Estatus_prestamo'])\n",
    "print(\"The Pearson Correlation Coefficient is\",\n",
    "      pearson_coef, \" with a P-value of P =\", p_value)\n"
   ]
  },
  {
   "attachments": {},
   "cell_type": "markdown",
   "metadata": {},
   "source": [
    "El coeficiente de correlación de Pearson indica una correlación positiva débil entre las dos variables que se comparan. El valor p sugiere que existe un nivel moderado de significación estadística para esta correlación."
   ]
  },
  {
   "cell_type": "code",
   "execution_count": 27,
   "metadata": {},
   "outputs": [
    {
     "name": "stdout",
     "output_type": "stream",
     "text": [
      "The Pearson Correlation Coefficient is -0.0052185567779376345  with a P-value of P = 0.902196962869311\n"
     ]
    }
   ],
   "source": [
    "pearson_coef, p_value = stats.pearsonr(\n",
    "    df['Dependientes'], df['Estatus_prestamo'])\n",
    "print(\"The Pearson Correlation Coefficient is\",\n",
    "      pearson_coef, \" with a P-value of P =\", p_value)\n"
   ]
  },
  {
   "attachments": {},
   "cell_type": "markdown",
   "metadata": {},
   "source": [
    "No existe una correlación estadísticamente significativa entre ['Dependientes'] y la variable objetivo."
   ]
  },
  {
   "cell_type": "code",
   "execution_count": 28,
   "metadata": {},
   "outputs": [
    {
     "name": "stdout",
     "output_type": "stream",
     "text": [
      "The Pearson Correlation Coefficient is -0.045848571329201414  with a P-value of P = 0.28005206082774786\n"
     ]
    }
   ],
   "source": [
    "pearson_coef, p_value = stats.pearsonr(\n",
    "    df['Salario'], df['Estatus_prestamo'])\n",
    "print(\"The Pearson Correlation Coefficient is\",\n",
    "      pearson_coef, \" with a P-value of P =\", p_value)\n"
   ]
  },
  {
   "attachments": {},
   "cell_type": "markdown",
   "metadata": {},
   "source": [
    "Existe una correlación negativa débil entre las variables que se analizan ['Salario'] y ['Estatus_Préstamo'], lo que significa que a medida que aumenta el salario, existe una ligera tendencia a disminuir ['Estatus_Préstamo']. Sin embargo, el coeficiente de correlación es muy pequeño, lo que indica que no existe una fuerte relación lineal entre las dos variables. El valor P indica que no hay evidencia significativa para rechazar la idea de que no están relacionadas en absoluto."
   ]
  }
 ],
 "metadata": {
  "kernelspec": {
   "display_name": "Python 3",
   "language": "python",
   "name": "python3"
  },
  "language_info": {
   "codemirror_mode": {
    "name": "ipython",
    "version": 3
   },
   "file_extension": ".py",
   "mimetype": "text/x-python",
   "name": "python",
   "nbconvert_exporter": "python",
   "pygments_lexer": "ipython3",
   "version": "3.10.4"
  },
  "orig_nbformat": 4,
  "vscode": {
   "interpreter": {
    "hash": "a4a250c60c6d53ce6e306b509684d94ef3bd79ed4d8e7bfbf3835179c995279e"
   }
  }
 },
 "nbformat": 4,
 "nbformat_minor": 2
}
